{
 "cells": [
  {
   "cell_type": "markdown",
   "metadata": {},
   "source": [
    "<img src=\"img/logo.png\" width=\"500\"/>\n",
    "<table><tr>\n",
    "<td> <img src=\"img/lri_logo.jpg\" alt=\"Drawing\" style=\"width: 100px;\"/> </td>\n",
    "<td>&nbsp;</td>\n",
    "<td> <img src=\"img/medi-chal_logo.png\" alt=\"Drawing\" style=\"width: 200px;\"/> </td>\n",
    "</tr></table>"
   ]
  },
  {
   "cell_type": "markdown",
   "metadata": {},
   "source": [
    "# Welcome to the Starting Kit!"
   ]
  },
  {
   "cell_type": "code",
   "execution_count": 1,
   "metadata": {},
   "outputs": [],
   "source": [
    "import pandas as pd\n",
    "import numpy as np\n",
    "from sklearn.tree import DecisionTreeClassifier"
   ]
  },
  {
   "cell_type": "markdown",
   "metadata": {},
   "source": [
    "# Read data"
   ]
  },
  {
   "cell_type": "code",
   "execution_count": 2,
   "metadata": {},
   "outputs": [],
   "source": [
    "x_columns = pd.read_csv('../public_data/heart_attack_feat.name', header=None)[0]\n",
    "y_columns = pd.read_csv('../public_data/heart_attack_label.name', header=None)[0]\n",
    "X_train = pd.read_csv('../public_data/heart_attack_train.data', header=None, sep=' ', names=x_columns)\n",
    "X_test = pd.read_csv('../public_data/heart_attack_test.data', header=None, sep=' ', names=x_columns)\n",
    "y_train = pd.read_csv('../public_data/heart_attack_train.solution', header=None, names=y_columns)"
   ]
  },
  {
   "cell_type": "markdown",
   "metadata": {},
   "source": [
    "# Baselines"
   ]
  },
  {
   "cell_type": "markdown",
   "metadata": {},
   "source": [
    "### 1. Binary classification"
   ]
  },
  {
   "cell_type": "code",
   "execution_count": 3,
   "metadata": {},
   "outputs": [],
   "source": [
    "clf = DecisionTreeClassifier()\n",
    "clf.fit(X_train, y_train)\n",
    "predictions = clf.predict(X_test)"
   ]
  },
  {
   "cell_type": "markdown",
   "metadata": {},
   "source": [
    "### 2. Feature selection"
   ]
  },
  {
   "cell_type": "code",
   "execution_count": 4,
   "metadata": {},
   "outputs": [],
   "source": [
    "selected_features = [0, 1, 0, 0, 0, 0, 0, 1, 0, 0, 0, 1, 0, 0, 1, 0]"
   ]
  },
  {
   "cell_type": "markdown",
   "metadata": {},
   "source": [
    "### 3. Causal inference"
   ]
  },
  {
   "cell_type": "code",
   "execution_count": 5,
   "metadata": {},
   "outputs": [],
   "source": [
    "causal_graph = np.zeros((17, 17), dtype=int)"
   ]
  },
  {
   "cell_type": "markdown",
   "metadata": {},
   "source": [
    "# Save submission"
   ]
  },
  {
   "cell_type": "code",
   "execution_count": 6,
   "metadata": {},
   "outputs": [
    {
     "name": "stdout",
     "output_type": "stream",
     "text": [
      "updating: causality.solution (deflated 98%)\r\n",
      "updating: classification.solution (deflated 91%)\r\n",
      "updating: selection.solution (deflated 59%)\r\n"
     ]
    }
   ],
   "source": [
    "# save files\n",
    "pd.DataFrame(predictions).to_csv('classification.solution', header=False, index=False)\n",
    "pd.DataFrame(selected_features).to_csv('selection.solution', header=False, index=False)\n",
    "pd.DataFrame(causal_graph).to_csv('causality.solution', header=False, index=False, sep=' ')\n",
    "\n",
    "# zip all\n",
    "!zip submission.zip *.solution"
   ]
  },
  {
   "cell_type": "code",
   "execution_count": null,
   "metadata": {},
   "outputs": [],
   "source": []
  }
 ],
 "metadata": {
  "kernelspec": {
   "display_name": "Python 3",
   "language": "python",
   "name": "python3"
  },
  "language_info": {
   "codemirror_mode": {
    "name": "ipython",
    "version": 3
   },
   "file_extension": ".py",
   "mimetype": "text/x-python",
   "name": "python",
   "nbconvert_exporter": "python",
   "pygments_lexer": "ipython3",
   "version": "3.8.1"
  }
 },
 "nbformat": 4,
 "nbformat_minor": 2
}
