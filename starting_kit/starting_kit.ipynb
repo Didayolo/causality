{
 "cells": [
  {
   "cell_type": "markdown",
   "metadata": {},
   "source": [
    "<img src=\"img/logo.png\" width=\"500\"/>\n",
    "<table><tr>\n",
    "<td> <img src=\"img/lri_logo.jpg\" alt=\"Drawing\" style=\"width: 100px;\"/> </td>\n",
    "<td>&nbsp;</td>\n",
    "<td> <img src=\"img/medi-chal_logo.png\" alt=\"Drawing\" style=\"width: 200px;\"/> </td>\n",
    "</tr></table>"
   ]
  },
  {
   "cell_type": "markdown",
   "metadata": {},
   "source": [
    "# Welcome to the Starting Kit!"
   ]
  },
  {
   "cell_type": "code",
   "execution_count": 1,
   "metadata": {},
   "outputs": [],
   "source": [
    "import pandas as pd\n",
    "from sklearn.tree import DecisionTreeClassifier"
   ]
  },
  {
   "cell_type": "markdown",
   "metadata": {},
   "source": [
    "# Read data"
   ]
  },
  {
   "cell_type": "code",
   "execution_count": 2,
   "metadata": {},
   "outputs": [],
   "source": [
    "x_columns = pd.read_csv('../public_data/heart_attack_feat.name', header=None)[0]\n",
    "y_columns = pd.read_csv('../public_data/heart_attack_label.name', header=None)[0]\n",
    "X_train = pd.read_csv('../public_data/heart_attack_train.data', header=None, sep=' ', names=x_columns)\n",
    "X_test = pd.read_csv('../public_data/heart_attack_test.data', header=None, sep=' ', names=x_columns)\n",
    "y_train = pd.read_csv('../public_data/heart_attack_train.solution', header=None, names=y_columns)"
   ]
  },
  {
   "cell_type": "markdown",
   "metadata": {},
   "source": [
    "# Baseline"
   ]
  },
  {
   "cell_type": "code",
   "execution_count": 3,
   "metadata": {},
   "outputs": [],
   "source": [
    "clf = DecisionTreeClassifier()\n",
    "clf.fit(X_train, y_train)\n",
    "predictions = clf.predict(X_test)"
   ]
  },
  {
   "cell_type": "markdown",
   "metadata": {},
   "source": [
    "# Save submission"
   ]
  },
  {
   "cell_type": "code",
   "execution_count": 4,
   "metadata": {},
   "outputs": [],
   "source": [
    "pd.DataFrame(predictions).to_csv('classification.solution', header=False, index=False)"
   ]
  },
  {
   "cell_type": "code",
   "execution_count": 5,
   "metadata": {},
   "outputs": [],
   "source": [
    "selected_features = [0, 1, 0, 0, 0, 0, 0, 1, 0, 0, 0, 1, 0, 0, 1, 0]\n",
    "pd.DataFrame(selected_features).to_csv('selection.solution', header=False, index=False)"
   ]
  },
  {
   "cell_type": "code",
   "execution_count": 6,
   "metadata": {},
   "outputs": [],
   "source": [
    "# now causal inference not causal feature selection, need to create a matrix\n",
    "#causal_features = [0, 1, 0, 0, 0, 0, 0, 1, 0, 0, 0]\n",
    "#pd.DataFrame(causal_features).to_csv('causal.solution', header=False, index=False)"
   ]
  },
  {
   "cell_type": "code",
   "execution_count": null,
   "metadata": {},
   "outputs": [],
   "source": []
  }
 ],
 "metadata": {
  "kernelspec": {
   "display_name": "Python 3",
   "language": "python",
   "name": "python3"
  },
  "language_info": {
   "codemirror_mode": {
    "name": "ipython",
    "version": 3
   },
   "file_extension": ".py",
   "mimetype": "text/x-python",
   "name": "python",
   "nbconvert_exporter": "python",
   "pygments_lexer": "ipython3",
   "version": "3.8.1"
  }
 },
 "nbformat": 4,
 "nbformat_minor": 2
}
